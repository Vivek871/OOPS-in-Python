{
  "nbformat": 4,
  "nbformat_minor": 0,
  "metadata": {
    "colab": {
      "provenance": []
    },
    "kernelspec": {
      "name": "python3",
      "display_name": "Python 3"
    },
    "language_info": {
      "name": "python"
    }
  },
  "cells": [
    {
      "cell_type": "markdown",
      "source": [
        "#oops"
      ],
      "metadata": {
        "id": "K-flidQAA-zH"
      }
    },
    {
      "cell_type": "markdown",
      "metadata": {
        "id": "21b5b439"
      },
      "source": [
        "1.What is Object-Oriented Programming (OOP)?\n",
        "\n",
        "Object-Oriented Programming (OOP) is a programming style using objects that hold data and code. Its main ideas are Encapsulation (keeping data and methods together), Abstraction (hiding complexity), Inheritance (reusing code by creating new classes from existing ones), and Polymorphism (allowing different objects to respond to the same instruction in their own way).\n",
        "\n",
        "2.What is a class in OOP?\n",
        "\n",
        "A class in Object-Oriented Programming is a blueprint or template for creating objects. It defines the properties (attributes or data) and behaviors (methods or functions) that objects of that class will have. Objects created from a class are called instances of that class. Think of a class like the blueprint for a house – it describes what the house will have (rooms, windows, etc.), and each house built from that blueprint is an object (an instance) of the house class.\n",
        "\n",
        "3. What is an object in OOP?\n",
        "\n",
        "An object in Object-Oriented Programming is an instance of a class. It is a concrete entity created from the blueprint defined by the class. Objects have the attributes and behaviors defined by their class.\n",
        "\n",
        "4. What is the difference between abstraction and encapsulation?\n",
        "\n",
        "Encapsulation is about bundling data and methods that operate on that data within a single unit (an object) and controlling access to that data. It's about data hiding and protecting the internal state of an object.\n",
        "- Abstraction is about hiding complex implementation details and showing only the essential features of an object. It's about simplifying the view of an object and focusing on what an object does rather than how it does it.\n",
        "\n",
        "5.What are dunder methods in Python?\n",
        "\n",
        "Dunder methods (double underscore methods), also known as magic methods, are special methods in Python that have double underscores at the beginning and end of their names (e.g., `__init__`, `__str__`, `__add__`). They are not meant to be called directly but are invoked automatically by Python in specific situations, such as when an object is created (`__init__`) or when using built-in functions or operators.\n",
        "\n",
        "6.Explain the concept of inheritance in OOP?\n",
        "\n",
        "Inheritance is a mechanism in OOP that allows a new class (subclass or derived class) to inherit properties (attributes) and behaviors (methods) from an existing class (superclass or base class). This promotes code reusability and establishes a hierarchical relationship between classes. The subclass can extend or override the inherited features.\n",
        "\n",
        "7.What is polymorphism in OOP?\n",
        "\n",
        "Polymorphism means many forms. In OOP, it refers to the ability of objects of different classes to respond to the same method call in their own specific way. This allows for writing more flexible and generic code, as you can treat objects of different types in a uniform manner.\n",
        "\n",
        "8.How is encapsulation achieved in Python?\n",
        "\n",
        "Encapsulation in Python is primarily achieved through naming conventions and access modifiers (though not strict enforcement like in some other languages). By convention, attributes and methods intended for internal use are prefixed with a single underscore (`_`). More strict encapsulation can be achieved using name mangling by prefixing with double underscores (`__`), which makes the name harder to access directly from outside the class.\n",
        "\n",
        "9.What is a constructor in Python?\n",
        "\n",
        "A constructor in Python is a special method named `__init__`. It is automatically called when a new object (instance) of a class is created. The primary purpose of the constructor is to initialize the attributes of the object.\n",
        "\n",
        "10.What are class and static methods in Python?\n",
        "\n",
        "Class methods are methods that are bound to the class and receive the class itself as the first argument (conventionally named `cls`). They are defined using the classmethod decorator. Class methods are often used for factory methods or methods that operate on class attributes.\n",
        "Static methods are methods that are not bound to either the class or the instance. They do not receive an implicit first argument (like `self` or `cls`). They are defined using the staticmethod decorator. Static methods are essentially regular functions that are logically grouped within a class and do not access or modify class or instance state.\n",
        "\n",
        "11.What is method overloading in Python?\n",
        "\n",
        "Method overloading is the ability to define multiple methods within the same class that have the same name but different parameters (number, type, or order of arguments). Python does not support traditional method overloading in the same way as some other languages (like Java or C++). If you define multiple methods with the same name, the last one defined will overwrite the previous ones. You can achieve similar behavior using default arguments, variable-length arguments (`*args` and `**kwargs`), or by checking argument types within a single method.\n",
        "\n",
        "12.What is method overriding in OOP?\n",
        "\n",
        "Method overriding is a concept in inheritance where a subclass provides a specific implementation for a method that is already defined in its superclass. When the overridden method is called on an object of the subclass, the subclass's implementation is executed instead of the superclass's implementation.\n",
        "\n",
        "13.What is a property decorator in Python?\n",
        "\n",
        "The property decorator in Python is a built-in decorator that provides a way to define methods that can be accessed like attributes. It allows you to define getter, setter, and deleter methods for an attribute, giving you more control over how the attribute is accessed and modified.\n",
        "\n",
        "14.Why is polymorphism important in OOP?\n",
        "\n",
        "Polymorphism is important because it allows for writing more flexible, extensible, and maintainable code. It enables you to work with objects of different types through a common interface, reducing the need for conditional statements (like `if-elif-else`) to handle different object types. This makes the code easier to understand, modify, and extend with new classes.\n",
        "\n",
        "15.What is an abstract class in Python?\n",
        "\n",
        "An abstract class is a class that cannot be instantiated directly. It is meant to be a blueprint for other classes. Abstract classes can contain abstract methods (methods declared but not implemented in the abstract class), which must be implemented by any concrete subclass that inherits from the abstract class. In Python, abstract classes are created using the `abc` module (Abstract Base Classes).\n",
        "\n",
        "16.What are the advantages of OOP?\n",
        "\n",
        "Reusability: Inheritance allows for reusing code from existing classes.\n",
        "Maintainability: Code is organized into objects, making it easier to understand and modify.\n",
        "Flexibility: Polymorphism allows for writing more flexible and adaptable code.\n",
        "Modularity: Objects are independent units, promoting modular design.\n",
        "Abstraction: Hiding complexity simplifies the system.\n",
        "Encapsulation: Protecting data and controlling access improves data integrity.\n",
        "\n",
        "17.What is the difference between a class variable and an instance variable?\n",
        "\n",
        "Class variables are shared by all instances of a class. They are defined within the class but outside of any methods. They are accessed using the class name or an instance of the class.\n",
        "Instance variables are unique to each instance of a class. They are defined within the methods (usually in the `__init__` constructor) using `self`. Each object has its own copy of the instance variables.\n",
        "\n",
        "18.What is multiple inheritance in Python?\n",
        "\n",
        "Multiple inheritance is a feature in Python where a class can inherit from more than one parent class. This allows a class to inherit attributes and methods from multiple sources, combining their functionalities.\n",
        "\n",
        "19.Explain the purpose of ‘__str__’ and ‘__repr__’ ‘ methods in Python.\n",
        "\n",
        "`__str__` is used to provide a user-friendly string representation of an object. It is called by the `str()` built-in function and the `print()` function. The goal is to be readable.\n",
        "`__repr__` is used to provide an unambiguous string representation of an object, primarily for developers. It is called by the `repr()` built-in function and is the default representation in the interactive interpreter. The goal is to be informative and ideally, evaluating the `__repr__` string should recreate the object.\n",
        "\n",
        "20.What is the significance of the ‘super()’ function in Python?\n",
        "\n",
        "-The `super()` function is used in a subclass to refer to the parent class (or superclass). It is commonly used in the `__init__` method of a subclass to call the `__init__` method of the parent class to ensure that the parent class's attributes are initialized. It is also used to call other methods of the parent class.\n",
        "\n",
        "21.What is the significance of the __del__ method in Python\n",
        "\n",
        "The `__del__` method, also known as the destructor, is called when an object is about to be garbage collected (i.e., when there are no more references to the object). It is often used to perform cleanup operations, such as closing files or releasing resources. However, the exact timing of garbage collection is not guaranteed, so `__del__` should be used with caution.\n",
        "\n",
        "22.What is the difference between @staticmethod and @classmethod in Python\n",
        "\n",
        "staticmethod does not receive any implicit first argument and cannot access or modify class or instance state. It's like a regular function within a class namespace.\n",
        "classmethod receives the class itself as the first argument (`cls`) and can access or modify class state (class variables). It is often used for factory methods that create instances of the class.\n",
        "\n",
        "23.How does polymorphism work in Python with inheritance\n",
        "\n",
        "Polymorphism with inheritance in Python works through method overriding. If a superclass has a method, and a subclass provides its own implementation of that method, when you call that method on an object of the subclass, the subclass's version is executed. This allows you to treat objects of different subclasses of a common superclass in a uniform way, calling the same method name but getting different behaviors depending on the object's actual type.\n",
        "\n",
        "24.What is method chaining in Python OOP\n",
        "\n",
        "Method chaining is a programming technique where multiple method calls are chained together on the same object. This is possible when a method returns the object itself (`self`) after performing its operation, allowing the next method in the chain to be called on the modified object.\n",
        "\n",
        "25.What is the purpose of the __call__ method in Python?\n",
        "\n",
        "The `__call__` method allows an object to be called like a function. If a class defines a `__call__` method, you can create an instance of the class and then call that instance as if it were a function. This can be useful for creating objects that behave like functions or for creating callable objects that maintain state."
      ]
    },
    {
      "cell_type": "markdown",
      "source": [
        "#practical"
      ],
      "metadata": {
        "id": "ml0DRODKInYi"
      }
    },
    {
      "cell_type": "markdown",
      "source": [
        " 1. Create a parent class Animal with a method speak() that prints a generic message. Create a child class Dog\n",
        "that overrides the speak() method to print \"Bark!\"."
      ],
      "metadata": {
        "id": "ARkjRDqLIqCp"
      }
    },
    {
      "cell_type": "code",
      "metadata": {
        "colab": {
          "base_uri": "https://localhost:8080/"
        },
        "id": "5c26835d",
        "outputId": "c69e90d3-5b3d-400b-8496-9bcd431d590f"
      },
      "source": [
        "class Animal:\n",
        "    def speak(self):\n",
        "        print(\"Generic animal sound\")\n",
        "\n",
        "class Dog(Animal):\n",
        "    def speak(self):\n",
        "        print(\"Bark!\")\n",
        "\n",
        "animal = Animal()\n",
        "dog = Dog()\n",
        "\n",
        "animal.speak()\n",
        "dog.speak()"
      ],
      "execution_count": 1,
      "outputs": [
        {
          "output_type": "stream",
          "name": "stdout",
          "text": [
            "Generic animal sound\n",
            "Bark!\n"
          ]
        }
      ]
    },
    {
      "cell_type": "markdown",
      "source": [
        "2. Write a program to create an abstract class Shape with a method area(). Derive classes Circle and Rectangle\n",
        "from it and implement the area() method in both."
      ],
      "metadata": {
        "id": "FUyI4kQmI8hT"
      }
    },
    {
      "cell_type": "code",
      "metadata": {
        "colab": {
          "base_uri": "https://localhost:8080/"
        },
        "id": "093f81b7",
        "outputId": "f3f0fa4c-7718-4df9-edb1-ab73a9981f34"
      },
      "source": [
        "from abc import ABC, abstractmethod\n",
        "import math\n",
        "\n",
        "class Shape(ABC):\n",
        "    @abstractmethod\n",
        "    def area(self):\n",
        "        pass\n",
        "\n",
        "class Circle(Shape):\n",
        "    def __init__(self, radius):\n",
        "        self.radius = radius\n",
        "\n",
        "    def area(self):\n",
        "        return math.pi * self.radius**2\n",
        "\n",
        "class Rectangle(Shape):\n",
        "    def __init__(self, width, height):\n",
        "        self.width = width\n",
        "        self.height = height\n",
        "\n",
        "    def area(self):\n",
        "        return self.width * self.height\n",
        "\n",
        "\n",
        "circle = Circle(5)\n",
        "rectangle = Rectangle(4, 6)\n",
        "\n",
        "print(f\"Area of Circle: {circle.area()}\")\n",
        "print(f\"Area of Rectangle: {rectangle.area()}\")"
      ],
      "execution_count": 2,
      "outputs": [
        {
          "output_type": "stream",
          "name": "stdout",
          "text": [
            "Area of Circle: 78.53981633974483\n",
            "Area of Rectangle: 24\n"
          ]
        }
      ]
    },
    {
      "cell_type": "markdown",
      "source": [
        " 3. Implement a multi-level inheritance scenario where a class Vehicle has an attribute type. Derive a class Car\n",
        "and further derive a class ElectricCar that adds a battery attribute."
      ],
      "metadata": {
        "id": "9UjDV58HJII_"
      }
    },
    {
      "cell_type": "code",
      "metadata": {
        "colab": {
          "base_uri": "https://localhost:8080/"
        },
        "id": "f32f301e",
        "outputId": "3c030ecb-21be-4ed2-c285-a950221dbd9b"
      },
      "source": [
        "class Vehicle:\n",
        "    def __init__(self, vehicle_type):\n",
        "        self.type = vehicle_type\n",
        "\n",
        "    def display_type(self):\n",
        "        print(f\"Vehicle type: {self.type}\")\n",
        "\n",
        "class Car(Vehicle):\n",
        "    def __init__(self, vehicle_type, model):\n",
        "        super().__init__(vehicle_type)\n",
        "        self.model = model\n",
        "\n",
        "    def display_model(self):\n",
        "        print(f\"Car model: {self.model}\")\n",
        "\n",
        "class ElectricCar(Car):\n",
        "    def __init__(self, vehicle_type, model, battery_capacity):\n",
        "        super().__init__(vehicle_type, model)\n",
        "        self.battery_capacity = battery_capacity\n",
        "\n",
        "    def display_battery(self):\n",
        "        print(f\"Battery capacity: {self.battery_capacity} kWh\")\n",
        "\n",
        "electric_car = ElectricCar(\"Electric Car\", \"Tesla Model S\", 100)\n",
        "\n",
        "electric_car.display_type()\n",
        "electric_car.display_model()\n",
        "electric_car.display_battery()"
      ],
      "execution_count": 3,
      "outputs": [
        {
          "output_type": "stream",
          "name": "stdout",
          "text": [
            "Vehicle type: Electric Car\n",
            "Car model: Tesla Model S\n",
            "Battery capacity: 100 kWh\n"
          ]
        }
      ]
    },
    {
      "cell_type": "markdown",
      "source": [
        "4. Demonstrate polymorphism by creating a base class Bird with a method fly(). Create two derived classes\n",
        "Sparrow and Penguin that override the fly() method."
      ],
      "metadata": {
        "id": "xtSgr2Q7JlMR"
      }
    },
    {
      "cell_type": "code",
      "metadata": {
        "colab": {
          "base_uri": "https://localhost:8080/"
        },
        "id": "65dfc822",
        "outputId": "550cee46-cc84-4aab-91f5-4d713c2b3369"
      },
      "source": [
        "class Bird:\n",
        "    def fly(self):\n",
        "        print(\"Bird is flying\")\n",
        "\n",
        "class Sparrow(Bird):\n",
        "    def fly(self):\n",
        "        print(\"Sparrow is flying high\")\n",
        "\n",
        "class Penguin(Bird):\n",
        "    def fly(self):\n",
        "        print(\"Penguin cannot fly, but it can swim\")\n",
        "\n",
        "def make_bird_fly(bird):\n",
        "    bird.fly()\n",
        "\n",
        "bird = Bird()\n",
        "sparrow = Sparrow()\n",
        "penguin = Penguin()\n",
        "\n",
        "make_bird_fly(bird)\n",
        "make_bird_fly(sparrow)\n",
        "make_bird_fly(penguin)"
      ],
      "execution_count": 4,
      "outputs": [
        {
          "output_type": "stream",
          "name": "stdout",
          "text": [
            "Bird is flying\n",
            "Sparrow is flying high\n",
            "Penguin cannot fly, but it can swim\n"
          ]
        }
      ]
    },
    {
      "cell_type": "markdown",
      "source": [
        "5. Write a program to demonstrate encapsulation by creating a class BankAccount with private attributes\n",
        "balance and methods to deposit, withdraw, and check balance."
      ],
      "metadata": {
        "id": "x2sf2UNBKG1h"
      }
    },
    {
      "cell_type": "code",
      "metadata": {
        "colab": {
          "base_uri": "https://localhost:8080/"
        },
        "id": "1a223363",
        "outputId": "f07eaa6a-c7ca-4fe8-e8fd-04c9d1fcafd4"
      },
      "source": [
        "class BankAccount:\n",
        "    def __init__(self, initial_balance=0):\n",
        "        self.__balance = initial_balance\n",
        "\n",
        "    def deposit(self, amount):\n",
        "        if amount > 0:\n",
        "            self.__balance += amount\n",
        "            print(f\"Deposited: ${amount}. New balance: ${self.__balance}\")\n",
        "        else:\n",
        "            print(\"Deposit amount must be positive.\")\n",
        "\n",
        "    def withdraw(self, amount):\n",
        "        if amount > 0:\n",
        "            if self.__balance >= amount:\n",
        "                self.__balance -= amount\n",
        "                print(f\"Withdrew: ${amount}. New balance: ${self.__balance}\")\n",
        "            else:\n",
        "                print(\"Insufficient funds.\")\n",
        "        else:\n",
        "            print(\"Withdrawal amount must be positive.\")\n",
        "\n",
        "    def get_balance(self):\n",
        "        return self.__balance\n",
        "\n",
        "account = BankAccount(1000)\n",
        "\n",
        "account.deposit(500)\n",
        "account.withdraw(200)\n",
        "account.withdraw(1500)\n",
        "print(f\"Current balance: ${account.get_balance()}\")\n"
      ],
      "execution_count": 5,
      "outputs": [
        {
          "output_type": "stream",
          "name": "stdout",
          "text": [
            "Deposited: $500. New balance: $1500\n",
            "Withdrew: $200. New balance: $1300\n",
            "Insufficient funds.\n",
            "Current balance: $1300\n"
          ]
        }
      ]
    },
    {
      "cell_type": "markdown",
      "source": [
        "6. Demonstrate runtime polymorphism using a method play() in a base class Instrument. Derive classes Guitar\n",
        "and Piano that implement their own version of play()."
      ],
      "metadata": {
        "id": "6tFmfNE_KZmI"
      }
    },
    {
      "cell_type": "code",
      "metadata": {
        "colab": {
          "base_uri": "https://localhost:8080/"
        },
        "id": "ba72969f",
        "outputId": "02fc36f2-8a67-4ca2-fdc9-2435780a9ddf"
      },
      "source": [
        "class Instrument:\n",
        "    def play(self):\n",
        "        print(\"Playing a generic instrument sound\")\n",
        "\n",
        "class Guitar(Instrument):\n",
        "    def play(self):\n",
        "        print(\"Strumming the guitar\")\n",
        "\n",
        "class Piano(Instrument):\n",
        "    def play(self):\n",
        "        print(\"Playing the piano keys\")\n",
        "\n",
        "def make_instrument_play(instrument):\n",
        "    instrument.play()\n",
        "\n",
        "instrument = Instrument()\n",
        "guitar = Guitar()\n",
        "piano = Piano()\n",
        "\n",
        "make_instrument_play(instrument)\n",
        "make_instrument_play(guitar)\n",
        "make_instrument_play(piano)"
      ],
      "execution_count": 6,
      "outputs": [
        {
          "output_type": "stream",
          "name": "stdout",
          "text": [
            "Playing a generic instrument sound\n",
            "Strumming the guitar\n",
            "Playing the piano keys\n"
          ]
        }
      ]
    },
    {
      "cell_type": "markdown",
      "source": [
        "7. Create a class MathOperations with a class method add_numbers() to add two numbers and a static\n",
        "method subtract_numbers() to subtract two numbers."
      ],
      "metadata": {
        "id": "g3pa5GjnK-p6"
      }
    },
    {
      "cell_type": "code",
      "metadata": {
        "colab": {
          "base_uri": "https://localhost:8080/"
        },
        "id": "b1daa89d",
        "outputId": "ba4b550c-0843-48c9-f43b-fa012f9f71d3"
      },
      "source": [
        "class MathOperations:\n",
        "    @classmethod\n",
        "    def add_numbers(cls, x, y):\n",
        "        \"\"\"Class method to add two numbers.\"\"\"\n",
        "        print(f\"Using class method: {cls.__name__}\")\n",
        "        return x + y\n",
        "\n",
        "    @staticmethod\n",
        "    def subtract_numbers(x, y):\n",
        "        \"\"\"Static method to subtract two numbers.\"\"\"\n",
        "        print(\"Using static method\")\n",
        "        return x - y\n",
        "\n",
        "sum_result = MathOperations.add_numbers(10, 5)\n",
        "print(f\"Sum: {sum_result}\")\n",
        "\n",
        "difference_result = MathOperations.subtract_numbers(10, 5)\n",
        "print(f\"Difference: {difference_result}\")"
      ],
      "execution_count": 7,
      "outputs": [
        {
          "output_type": "stream",
          "name": "stdout",
          "text": [
            "Using class method: MathOperations\n",
            "Sum: 15\n",
            "Using static method\n",
            "Difference: 5\n"
          ]
        }
      ]
    },
    {
      "cell_type": "markdown",
      "source": [
        "8. Implement a class Person with a class method to count the total number of persons created."
      ],
      "metadata": {
        "id": "341Tc0nfLQD1"
      }
    },
    {
      "cell_type": "code",
      "metadata": {
        "colab": {
          "base_uri": "https://localhost:8080/"
        },
        "id": "e0f5d0e6",
        "outputId": "a7e1b58d-e33d-40f2-cc46-08f170df00e3"
      },
      "source": [
        "class Person:\n",
        "    number_of_persons = 0\n",
        "\n",
        "    def __init__(self, name):\n",
        "        self.name = name\n",
        "        Person.number_of_persons += 1\n",
        "\n",
        "    @classmethod\n",
        "    def get_number_of_persons(cls):\n",
        "        \"\"\"Class method to get the total number of Person instances created.\"\"\"\n",
        "        return cls.number_of_persons\n",
        "\n",
        "person1 = Person(\"Alice\")\n",
        "person2 = Person(\"Bob\")\n",
        "person3 = Person(\"Charlie\")\n",
        "print(f\"Total number of persons created: {Person.get_number_of_persons()}\")"
      ],
      "execution_count": 8,
      "outputs": [
        {
          "output_type": "stream",
          "name": "stdout",
          "text": [
            "Total number of persons created: 3\n"
          ]
        }
      ]
    },
    {
      "cell_type": "markdown",
      "source": [
        "9. Write a class Fraction with attributes numerator and denominator. Override the str method to display the\n",
        "fraction as \"numerator/denominator\"."
      ],
      "metadata": {
        "id": "jNA_BCoXLjL5"
      }
    },
    {
      "cell_type": "code",
      "metadata": {
        "colab": {
          "base_uri": "https://localhost:8080/"
        },
        "id": "ae4bc69f",
        "outputId": "a32b5a04-182d-425c-effa-ac027165aa3f"
      },
      "source": [
        "class Fraction:\n",
        "    def __init__(self, numerator, denominator):\n",
        "        self.numerator = numerator\n",
        "        self.denominator = denominator\n",
        "\n",
        "    def __str__(self):\n",
        "        \"\"\"Overrides the string representation for user-friendly output.\"\"\"\n",
        "        return f\"{self.numerator}/{self.denominator}\"\n",
        "\n",
        "fraction1 = Fraction(3, 4)\n",
        "fraction2 = Fraction(1, 2)\n",
        "\n",
        "print(fraction1)\n",
        "print(fraction2)"
      ],
      "execution_count": 9,
      "outputs": [
        {
          "output_type": "stream",
          "name": "stdout",
          "text": [
            "3/4\n",
            "1/2\n"
          ]
        }
      ]
    },
    {
      "cell_type": "markdown",
      "source": [
        " 10. Demonstrate operator overloading by creating a class Vector and overriding the add method to add two\n",
        "vectors."
      ],
      "metadata": {
        "id": "JPYlVRifLxnL"
      }
    },
    {
      "cell_type": "code",
      "metadata": {
        "colab": {
          "base_uri": "https://localhost:8080/"
        },
        "id": "b746f81e",
        "outputId": "d39085d9-3168-4a02-ae95-b090fbd21b4b"
      },
      "source": [
        "class Vector:\n",
        "    def __init__(self, x, y):\n",
        "        self.x = x\n",
        "        self.y = y\n",
        "\n",
        "    def __str__(self):\n",
        "        \"\"\"String representation for easy printing.\"\"\"\n",
        "        return f\"Vector({self.x}, {self.y})\"\n",
        "\n",
        "    def __add__(self, other):\n",
        "        \"\"\"Overrides the addition operator (+) for Vector objects.\"\"\"\n",
        "        if isinstance(other, Vector):\n",
        "            return Vector(self.x + other.x, self.y + other.y)\n",
        "        else:\n",
        "            raise TypeError(\"Can only add a Vector object to another Vector object\")\n",
        "\n",
        "vector1 = Vector(2, 3)\n",
        "vector2 = Vector(1, 5)\n",
        "\n",
        "vector_sum = vector1 + vector2\n",
        "\n",
        "print(f\"Vector 1: {vector1}\")\n",
        "print(f\"Vector 2: {vector2}\")\n",
        "print(f\"Sum of Vectors: {vector_sum}\")"
      ],
      "execution_count": 10,
      "outputs": [
        {
          "output_type": "stream",
          "name": "stdout",
          "text": [
            "Vector 1: Vector(2, 3)\n",
            "Vector 2: Vector(1, 5)\n",
            "Sum of Vectors: Vector(3, 8)\n"
          ]
        }
      ]
    },
    {
      "cell_type": "markdown",
      "source": [
        " 11. Create a class Person with attributes name and age. Add a method greet() that prints \"Hello, my name is\n",
        "{name} and I am {age} years old.\""
      ],
      "metadata": {
        "id": "RSRbltC8MAMA"
      }
    },
    {
      "cell_type": "code",
      "metadata": {
        "colab": {
          "base_uri": "https://localhost:8080/"
        },
        "id": "4e3ca89b",
        "outputId": "195a1efd-de30-4153-98ce-68a081c21c61"
      },
      "source": [
        "class Person:\n",
        "    def __init__(self, name, age):\n",
        "        self.name = name\n",
        "        self.age = age\n",
        "\n",
        "    def greet(self):\n",
        "        \"\"\"Prints a greeting message.\"\"\"\n",
        "        print(f\"Hello, my name is {self.name} and I am {self.age} years old.\")\n",
        "\n",
        "person1 = Person(\"Alice\", 30)\n",
        "person2 = Person(\"Bob\", 25)\n",
        "\n",
        "person1.greet()\n",
        "person2.greet()"
      ],
      "execution_count": 12,
      "outputs": [
        {
          "output_type": "stream",
          "name": "stdout",
          "text": [
            "Hello, my name is Alice and I am 30 years old.\n",
            "Hello, my name is Bob and I am 25 years old.\n"
          ]
        }
      ]
    },
    {
      "cell_type": "markdown",
      "source": [
        " 12. Implement a class Student with attributes name and grades. Create a method average_grade() to compute\n",
        "the average of the grades."
      ],
      "metadata": {
        "id": "04id6z7pMNny"
      }
    },
    {
      "cell_type": "code",
      "metadata": {
        "colab": {
          "base_uri": "https://localhost:8080/"
        },
        "id": "e02276b0",
        "outputId": "0fd11cc2-41b4-473e-aec7-b2a25a507cb3"
      },
      "source": [
        "class Student:\n",
        "    def __init__(self, name, grades):\n",
        "        self.name = name\n",
        "        self.grades = grades\n",
        "\n",
        "    def average_grade(self):\n",
        "        \"\"\"Computes and returns the average of the student's grades.\"\"\"\n",
        "        if not self.grades:\n",
        "            return 0\n",
        "        return sum(self.grades) / len(self.grades)\n",
        "\n",
        "# Example usage\n",
        "student1 = Student(\"Alice\", [85, 90, 92, 88])\n",
        "student2 = Student(\"Bob\", [78, 81, 75, 85])\n",
        "student3 = Student(\"Charlie\", [])\n",
        "\n",
        "print(f\"{student1.name}'s average grade: {student1.average_grade():.2f}\")\n",
        "print(f\"{student2.name}'s average grade: {student2.average_grade():.2f}\")\n",
        "print(f\"{student3.name}'s average grade: {student3.average_grade():.2f}\")"
      ],
      "execution_count": 13,
      "outputs": [
        {
          "output_type": "stream",
          "name": "stdout",
          "text": [
            "Alice's average grade: 88.75\n",
            "Bob's average grade: 79.75\n",
            "Charlie's average grade: 0.00\n"
          ]
        }
      ]
    },
    {
      "cell_type": "markdown",
      "source": [
        " 13. Create a class Rectangle with methods set_dimensions() to set the dimensions and area() to calculate the\n",
        "area."
      ],
      "metadata": {
        "id": "qaCqoEe0MgGv"
      }
    },
    {
      "cell_type": "code",
      "metadata": {
        "colab": {
          "base_uri": "https://localhost:8080/"
        },
        "id": "d23dc2fe",
        "outputId": "8c22242b-7866-4c74-bdce-08e7409649db"
      },
      "source": [
        "class Rectangle:\n",
        "    def __init__(self, width=0, height=0):\n",
        "        self.width = width\n",
        "        self.height = height\n",
        "\n",
        "    def set_dimensions(self, width, height):\n",
        "        \"\"\"Sets the width and height of the rectangle.\"\"\"\n",
        "        if width >= 0 and height >= 0:\n",
        "            self.width = width\n",
        "            self.height = height\n",
        "        else:\n",
        "            print(\"Dimensions must be non-negative.\")\n",
        "\n",
        "    def area(self):\n",
        "        \"\"\"Calculates and returns the area of the rectangle.\"\"\"\n",
        "        return self.width * self.height\n",
        "\n",
        "rectangle1 = Rectangle()\n",
        "print(f\"Initial area: {rectangle1.area()}\")\n",
        "\n",
        "rectangle1.set_dimensions(10, 5)\n",
        "print(f\"Area after setting dimensions: {rectangle1.area()}\")\n",
        "\n",
        "rectangle2 = Rectangle(7, 3)\n",
        "print(f\"Area of another rectangle: {rectangle2.area()}\")\n",
        "\n",
        "rectangle1.set_dimensions(-2, 5)\n",
        "print(f\"Area after invalid dimensions attempt: {rectangle1.area()}\")"
      ],
      "execution_count": 14,
      "outputs": [
        {
          "output_type": "stream",
          "name": "stdout",
          "text": [
            "Initial area: 0\n",
            "Area after setting dimensions: 50\n",
            "Area of another rectangle: 21\n",
            "Dimensions must be non-negative.\n",
            "Area after invalid dimensions attempt: 50\n"
          ]
        }
      ]
    },
    {
      "cell_type": "markdown",
      "source": [
        "14. Create a class Employee with a method calculate_salary() that computes the salary based on hours worked\n",
        "and hourly rate. Create a derived class Manager that adds a bonus to the salary."
      ],
      "metadata": {
        "id": "5DQMTbBFMt2g"
      }
    },
    {
      "cell_type": "code",
      "metadata": {
        "colab": {
          "base_uri": "https://localhost:8080/"
        },
        "id": "5190537a",
        "outputId": "2d17eaba-276c-4829-deb3-2209819e01a4"
      },
      "source": [
        "class Employee:\n",
        "    def __init__(self, name, hours_worked, hourly_rate):\n",
        "        self.name = name\n",
        "        self.hours_worked = hours_worked\n",
        "        self.hourly_rate = hourly_rate\n",
        "\n",
        "    def calculate_salary(self):\n",
        "        \"\"\"Computes the salary based on hours worked and hourly rate.\"\"\"\n",
        "        return self.hours_worked * self.hourly_rate\n",
        "\n",
        "class Manager(Employee):\n",
        "    def __init__(self, name, hours_worked, hourly_rate, bonus):\n",
        "        super().__init__(name, hours_worked, hourly_rate)\n",
        "        self.bonus = bonus\n",
        "\n",
        "    def calculate_salary(self):\n",
        "        \"\"\"Computes the salary including the bonus.\"\"\"\n",
        "        base_salary = super().calculate_salary()\n",
        "        return base_salary + self.bonus\n",
        "\n",
        "employee1 = Employee(\"Alice\", 40, 20)\n",
        "manager1 = Manager(\"Bob\", 40, 25, 500)\n",
        "\n",
        "print(f\"{employee1.name}'s salary: ${employee1.calculate_salary()}\")\n",
        "print(f\"{manager1.name}'s salary: ${manager1.calculate_salary()}\")"
      ],
      "execution_count": 15,
      "outputs": [
        {
          "output_type": "stream",
          "name": "stdout",
          "text": [
            "Alice's salary: $800\n",
            "Bob's salary: $1500\n"
          ]
        }
      ]
    },
    {
      "cell_type": "markdown",
      "source": [
        "15. Create a class Product with attributes name, price, and quantity. Implement a method total_price() that\n",
        "calculates the total price of the product."
      ],
      "metadata": {
        "id": "7ZWsMa0wM7aE"
      }
    },
    {
      "cell_type": "code",
      "metadata": {
        "colab": {
          "base_uri": "https://localhost:8080/"
        },
        "id": "52ab0198",
        "outputId": "9143f5a7-dac5-43f6-9502-d2dca1be45b3"
      },
      "source": [
        "class Product:\n",
        "    def __init__(self, name, price, quantity):\n",
        "        self.name = name\n",
        "        self.price = price\n",
        "        self.quantity = quantity\n",
        "\n",
        "    def total_price(self):\n",
        "        \"\"\"Calculates and returns the total price of the product.\"\"\"\n",
        "        return self.price * self.quantity\n",
        "\n",
        "product1 = Product(\"Laptop\", 1200, 1)\n",
        "product2 = Product(\"Mouse\", 25, 5)\n",
        "\n",
        "print(f\"Total price for {product1.name}: ${product1.total_price()}\")\n",
        "print(f\"Total price for {product2.name}: ${product2.total_price()}\")"
      ],
      "execution_count": 16,
      "outputs": [
        {
          "output_type": "stream",
          "name": "stdout",
          "text": [
            "Total price for Laptop: $1200\n",
            "Total price for Mouse: $125\n"
          ]
        }
      ]
    },
    {
      "cell_type": "markdown",
      "source": [
        "16. Create a class Animal with an abstract method sound(). Create two derived classes Cow and Sheep that\n",
        "implement the sound() method."
      ],
      "metadata": {
        "id": "dEFMWGfoNJJV"
      }
    },
    {
      "cell_type": "code",
      "metadata": {
        "colab": {
          "base_uri": "https://localhost:8080/"
        },
        "id": "a705a548",
        "outputId": "b315b719-aaad-4faf-ae2f-2dc90cca812f"
      },
      "source": [
        "from abc import ABC, abstractmethod\n",
        "\n",
        "class Animal(ABC):\n",
        "    @abstractmethod\n",
        "    def sound(self):\n",
        "        pass\n",
        "\n",
        "class Cow(Animal):\n",
        "    def sound(self):\n",
        "        return \"Moo\"\n",
        "\n",
        "class Sheep(Animal):\n",
        "    def sound(self):\n",
        "        return \"Baa\"\n",
        "\n",
        "cow = Cow()\n",
        "sheep = Sheep()\n",
        "\n",
        "print(f\"Cow says: {cow.sound()}\")\n",
        "print(f\"Sheep says: {sheep.sound()}\")"
      ],
      "execution_count": 17,
      "outputs": [
        {
          "output_type": "stream",
          "name": "stdout",
          "text": [
            "Cow says: Moo\n",
            "Sheep says: Baa\n"
          ]
        }
      ]
    },
    {
      "cell_type": "markdown",
      "source": [
        " 17. Create a class Book with attributes title, author, and year_published. Add a method get_book_info() that\n",
        "returns a formatted string with the book's details."
      ],
      "metadata": {
        "id": "D6iv-nFaNUvR"
      }
    },
    {
      "cell_type": "code",
      "metadata": {
        "colab": {
          "base_uri": "https://localhost:8080/"
        },
        "id": "7ef8eebf",
        "outputId": "6f6828d8-739a-4f4c-a3f0-0fb4c0caacaa"
      },
      "source": [
        "class Book:\n",
        "    def __init__(self, title, author, year_published):\n",
        "        self.title = title\n",
        "        self.author = author\n",
        "        self.year_published = year_published\n",
        "\n",
        "    def get_book_info(self):\n",
        "        \"\"\"Returns a formatted string with the book's details.\"\"\"\n",
        "        return f\"Title: {self.title}, Author: {self.author}, Year Published: {self.year_published}\"\n",
        "\n",
        "book1 = Book(\"The Hitchhiker's Guide to the Galaxy\", \"Douglas Adams\", 1979)\n",
        "book2 = Book(\"Pride and Prejudice\", \"Jane Austen\", 1813)\n",
        "\n",
        "print(book1.get_book_info())\n",
        "print(book2.get_book_info())"
      ],
      "execution_count": 18,
      "outputs": [
        {
          "output_type": "stream",
          "name": "stdout",
          "text": [
            "Title: The Hitchhiker's Guide to the Galaxy, Author: Douglas Adams, Year Published: 1979\n",
            "Title: Pride and Prejudice, Author: Jane Austen, Year Published: 1813\n"
          ]
        }
      ]
    },
    {
      "cell_type": "markdown",
      "source": [
        " 18. Create a class House with attributes address and price. Create a derived class Mansion that adds an\n",
        "attribute number_of_rooms."
      ],
      "metadata": {
        "id": "8qQq7HWUNgMF"
      }
    },
    {
      "cell_type": "code",
      "metadata": {
        "colab": {
          "base_uri": "https://localhost:8080/"
        },
        "id": "95b935b2",
        "outputId": "3c5aec86-3282-47ce-c4f6-69176963329b"
      },
      "source": [
        "class House:\n",
        "    def __init__(self, address, price):\n",
        "        self.address = address\n",
        "        self.price = price\n",
        "\n",
        "    def get_house_info(self):\n",
        "        \"\"\"Returns basic information about the house.\"\"\"\n",
        "        return f\"Address: {self.address}, Price: ${self.price}\"\n",
        "\n",
        "class Mansion(House):\n",
        "    def __init__(self, address, price, number_of_rooms):\n",
        "        super().__init__(address, price)\n",
        "        self.number_of_rooms = number_of_rooms\n",
        "\n",
        "    def get_mansion_info(self):\n",
        "        \"\"\"Returns information specific to the mansion, including house info.\"\"\"\n",
        "        return f\"{super().get_house_info()}, Number of Rooms: {self.number_of_rooms}\"\n",
        "\n",
        "house = House(\"123 Main St\", 300000)\n",
        "mansion = Mansion(\"456 Oak Ave\", 1500000, 20)\n",
        "\n",
        "print(house.get_house_info())\n",
        "print(mansion.get_mansion_info())"
      ],
      "execution_count": 19,
      "outputs": [
        {
          "output_type": "stream",
          "name": "stdout",
          "text": [
            "Address: 123 Main St, Price: $300000\n",
            "Address: 456 Oak Ave, Price: $1500000, Number of Rooms: 20\n"
          ]
        }
      ]
    }
  ]
}